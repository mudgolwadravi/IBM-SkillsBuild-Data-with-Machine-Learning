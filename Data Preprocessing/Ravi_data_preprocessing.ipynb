{
 "cells": [
  {
   "cell_type": "markdown",
   "metadata": {
    "id": "37puETfgRzzg"
   },
   "source": [
    "# Data Preprocessing | IBM SkillsBuild Internship"
   ]
  },
  {
   "cell_type": "markdown",
   "metadata": {
    "id": "EoRP98MpR-qj"
   },
   "source": [
    "## Import the required libraries"
   ]
  },
  {
   "cell_type": "code",
   "execution_count": 2,
   "metadata": {
    "id": "XoxvOWTaQZ-Y"
   },
   "outputs": [],
   "source": [
    "import numpy as np\n",
    "import pandas as pd\n",
    "import matplotlib.pyplot as plt"
   ]
  },
  {
   "cell_type": "markdown",
   "metadata": {
    "id": "RopL7tUZSQkT"
   },
   "source": [
    "## Import the dataset"
   ]
  },
  {
   "cell_type": "code",
   "execution_count": 3,
   "metadata": {
    "id": "6AEV8tnzQwyt"
   },
   "outputs": [],
   "source": [
    "dataset=pd.read_csv('Data.csv')\n",
    "X=dataset.iloc[:,:-1].values\n",
    "y=dataset.iloc[:,-1].values"
   ]
  },
  {
   "cell_type": "code",
   "execution_count": 4,
   "metadata": {
    "colab": {
     "base_uri": "https://localhost:8080/"
    },
    "id": "sCCMcMExR0Mn",
    "outputId": "ffbd4679-139d-4e26-c46b-b59f7328da91"
   },
   "outputs": [
    {
     "name": "stdout",
     "output_type": "stream",
     "text": [
      "[['India' 44.0 72000.0]\n",
      " ['Thailand ' 27.0 48000.0]\n",
      " ['Indonesia' 30.0 54000.0]\n",
      " ['China' 38.0 61000.0]\n",
      " ['India' 40.0 nan]\n",
      " ['China' 35.0 58000.0]\n",
      " ['Thailand ' nan 52000.0]\n",
      " ['India' 48.0 79000.0]\n",
      " ['Indonesia' 50.0 83000.0]\n",
      " ['Thailand ' 37.0 67000.0]\n",
      " ['India' 25.0 nan]\n",
      " ['Thailand ' 36.0 60000.0]\n",
      " ['Indonesia' 42.0 64000.0]\n",
      " ['India' nan 40000.0]\n",
      " ['Thailand ' 52.0 90000.0]\n",
      " ['Indonesia' nan 55000.0]\n",
      " ['China' 41.0 nan]\n",
      " ['India' 29.0 48000.0]\n",
      " ['China' 43.0 70000.0]]\n"
     ]
    }
   ],
   "source": [
    "print(X)"
   ]
  },
  {
   "cell_type": "code",
   "execution_count": 5,
   "metadata": {
    "colab": {
     "base_uri": "https://localhost:8080/"
    },
    "id": "nxBohXT0R6zM",
    "outputId": "3d98a359-cdc2-4353-fe91-863c80651b42"
   },
   "outputs": [
    {
     "name": "stdout",
     "output_type": "stream",
     "text": [
      "['No' 'Yes' 'No' 'No' 'Yes' 'Yes' 'No' 'Yes' 'No' 'Yes' 'No' 'No' 'Yes'\n",
      " 'Yes' 'Yes' 'No' 'Yes' 'No' 'Yes']\n"
     ]
    }
   ],
   "source": [
    "print(y)"
   ]
  },
  {
   "cell_type": "markdown",
   "metadata": {
    "id": "nhfKXNxlSabC"
   },
   "source": [
    "## Solving for missing data"
   ]
  },
  {
   "cell_type": "code",
   "execution_count": 6,
   "metadata": {
    "id": "TEWYLOHYRhLD"
   },
   "outputs": [],
   "source": [
    "from sklearn.impute import SimpleImputer\n",
    "imputer=SimpleImputer(missing_values=np.nan,strategy='mean')\n",
    "imputer.fit(X[:,1:3])\n",
    "X[:,1:3]=imputer.transform(X[:,1:3]) #"
   ]
  },
  {
   "cell_type": "code",
   "execution_count": 7,
   "metadata": {
    "colab": {
     "base_uri": "https://localhost:8080/"
    },
    "id": "K6vIcMLuTjfc",
    "outputId": "702f69bb-5a51-4266-e9d9-e9ed7805f8d8"
   },
   "outputs": [
    {
     "name": "stdout",
     "output_type": "stream",
     "text": [
      "[['India' 44.0 72000.0]\n",
      " ['Thailand ' 27.0 48000.0]\n",
      " ['Indonesia' 30.0 54000.0]\n",
      " ['China' 38.0 61000.0]\n",
      " ['India' 40.0 62562.5]\n",
      " ['China' 35.0 58000.0]\n",
      " ['Thailand ' 38.5625 52000.0]\n",
      " ['India' 48.0 79000.0]\n",
      " ['Indonesia' 50.0 83000.0]\n",
      " ['Thailand ' 37.0 67000.0]\n",
      " ['India' 25.0 62562.5]\n",
      " ['Thailand ' 36.0 60000.0]\n",
      " ['Indonesia' 42.0 64000.0]\n",
      " ['India' 38.5625 40000.0]\n",
      " ['Thailand ' 52.0 90000.0]\n",
      " ['Indonesia' 38.5625 55000.0]\n",
      " ['China' 41.0 62562.5]\n",
      " ['India' 29.0 48000.0]\n",
      " ['China' 43.0 70000.0]]\n"
     ]
    }
   ],
   "source": [
    "print(X)"
   ]
  },
  {
   "cell_type": "markdown",
   "metadata": {
    "id": "CriG6VzVSjcK"
   },
   "source": [
    "## Encoding categorical data"
   ]
  },
  {
   "cell_type": "markdown",
   "metadata": {
    "id": "AhSpdQWeSsFh"
   },
   "source": [
    "### Encoding the Independent Variable"
   ]
  },
  {
   "cell_type": "code",
   "execution_count": 8,
   "metadata": {
    "id": "pWk__0qKUZAE"
   },
   "outputs": [],
   "source": [
    "from sklearn.compose import ColumnTransformer\n",
    "from sklearn.preprocessing import OneHotEncoder\n",
    "ct=ColumnTransformer(transformers=[('encoder',OneHotEncoder(),[0])],remainder='passthrough')\n",
    "X=np.array(ct.fit_transform(X))"
   ]
  },
  {
   "cell_type": "code",
   "execution_count": 9,
   "metadata": {
    "colab": {
     "base_uri": "https://localhost:8080/"
    },
    "id": "f9dXywKXXGTJ",
    "outputId": "6cb5e249-13ce-4d76-d814-cdbcca4e48ae"
   },
   "outputs": [
    {
     "name": "stdout",
     "output_type": "stream",
     "text": [
      "[[0.0 1.0 0.0 0.0 44.0 72000.0]\n",
      " [0.0 0.0 0.0 1.0 27.0 48000.0]\n",
      " [0.0 0.0 1.0 0.0 30.0 54000.0]\n",
      " [1.0 0.0 0.0 0.0 38.0 61000.0]\n",
      " [0.0 1.0 0.0 0.0 40.0 62562.5]\n",
      " [1.0 0.0 0.0 0.0 35.0 58000.0]\n",
      " [0.0 0.0 0.0 1.0 38.5625 52000.0]\n",
      " [0.0 1.0 0.0 0.0 48.0 79000.0]\n",
      " [0.0 0.0 1.0 0.0 50.0 83000.0]\n",
      " [0.0 0.0 0.0 1.0 37.0 67000.0]\n",
      " [0.0 1.0 0.0 0.0 25.0 62562.5]\n",
      " [0.0 0.0 0.0 1.0 36.0 60000.0]\n",
      " [0.0 0.0 1.0 0.0 42.0 64000.0]\n",
      " [0.0 1.0 0.0 0.0 38.5625 40000.0]\n",
      " [0.0 0.0 0.0 1.0 52.0 90000.0]\n",
      " [0.0 0.0 1.0 0.0 38.5625 55000.0]\n",
      " [1.0 0.0 0.0 0.0 41.0 62562.5]\n",
      " [0.0 1.0 0.0 0.0 29.0 48000.0]\n",
      " [1.0 0.0 0.0 0.0 43.0 70000.0]]\n"
     ]
    }
   ],
   "source": [
    "print(X)"
   ]
  },
  {
   "cell_type": "markdown",
   "metadata": {
    "id": "DXh8oVSITIc6"
   },
   "source": [
    "### Encoding the Dependent Variable"
   ]
  },
  {
   "cell_type": "code",
   "execution_count": 10,
   "metadata": {
    "id": "TGrMBPXoXkX4"
   },
   "outputs": [],
   "source": [
    "from sklearn.preprocessing import LabelEncoder\n",
    "le=LabelEncoder()\n",
    "y=le.fit_transform(y)"
   ]
  },
  {
   "cell_type": "code",
   "execution_count": 11,
   "metadata": {
    "colab": {
     "base_uri": "https://localhost:8080/"
    },
    "id": "7yh04Z7PX8FI",
    "outputId": "8cab676b-3eef-4eb3-caac-222934097ffa"
   },
   "outputs": [
    {
     "name": "stdout",
     "output_type": "stream",
     "text": [
      "[0 1 0 0 1 1 0 1 0 1 0 0 1 1 1 0 1 0 1]\n"
     ]
    }
   ],
   "source": [
    "print(y)"
   ]
  },
  {
   "cell_type": "markdown",
   "metadata": {
    "id": "qb_vcgm3qZKW"
   },
   "source": [
    "## Splitting the dataset into the Training set and Test set"
   ]
  },
  {
   "cell_type": "code",
   "execution_count": 12,
   "metadata": {
    "id": "cWSJsZIXYo5K"
   },
   "outputs": [],
   "source": [
    "from sklearn.model_selection import train_test_split\n",
    "X_train,X_test,y_train,y_test=train_test_split(X,y,test_size=0.2,random_state=0)\n"
   ]
  },
  {
   "cell_type": "code",
   "execution_count": 13,
   "metadata": {
    "colab": {
     "base_uri": "https://localhost:8080/"
    },
    "id": "rmgKMXlUbVHo",
    "outputId": "32d3a880-5fdc-41fa-e7b0-9be7ebe49547"
   },
   "outputs": [
    {
     "name": "stdout",
     "output_type": "stream",
     "text": [
      "[[0.0 1.0 0.0 0.0 25.0 62562.5]\n",
      " [0.0 0.0 0.0 1.0 27.0 48000.0]\n",
      " [0.0 0.0 1.0 0.0 50.0 83000.0]\n",
      " [1.0 0.0 0.0 0.0 43.0 70000.0]]\n"
     ]
    }
   ],
   "source": [
    "print(X_test)"
   ]
  },
  {
   "cell_type": "markdown",
   "metadata": {
    "id": "TpGqbS4TqkIR"
   },
   "source": [
    "## Feature Scaling"
   ]
  },
  {
   "cell_type": "code",
   "execution_count": 14,
   "metadata": {
    "id": "7PUfll2Ebbe9"
   },
   "outputs": [],
   "source": [
    "from sklearn.preprocessing import StandardScaler\n",
    "sc=StandardScaler()\n",
    "X_train=sc.fit_transform(X_train)\n",
    "X_test=sc.transform(X_train)"
   ]
  },
  {
   "cell_type": "code",
   "execution_count": 15,
   "metadata": {
    "colab": {
     "base_uri": "https://localhost:8080/"
    },
    "id": "mKlIZFyPb_oO",
    "outputId": "42e663c8-1b5b-4a8a-aa74-25f4a444fed5"
   },
   "outputs": [
    {
     "name": "stdout",
     "output_type": "stream",
     "text": [
      "[[-0.5        -0.70710678 -0.5         1.6583124   2.22042763  2.385368  ]\n",
      " [ 2.         -0.70710678 -0.5        -0.60302269  0.31534835  0.07474013]\n",
      " [-0.5        -0.70710678 -0.5         1.6583124  -0.1067999  -0.81477265]\n",
      " [-0.5         1.41421356 -0.5        -0.60302269  0.14215933  0.07474013]\n",
      " [-0.5        -0.70710678  2.         -0.60302269 -1.58973093 -0.6463442 ]\n",
      " [ 2.         -0.70710678 -0.5        -0.60302269 -0.7237858  -0.30948729]\n",
      " [-0.5         1.41421356 -0.5        -0.60302269 -0.1067999  -1.82534339]\n",
      " [-0.5        -0.70710678 -0.5         1.6583124  -0.37740775  0.44844076]\n",
      " [-0.5         1.41421356 -0.5        -0.60302269  1.52767153  1.4590115 ]\n",
      " [-0.5         1.41421356 -0.5        -0.60302269 -1.76291995 -1.15162956]\n",
      " [-0.5        -0.70710678 -0.5         1.6583124  -0.55059678 -0.14105883]\n",
      " [ 2.         -0.70710678 -0.5        -0.60302269 -0.20421873 -0.0568446 ]\n",
      " [-0.5         1.41421356 -0.5        -0.60302269  0.83491543  0.8695119 ]\n",
      " [-0.5        -0.70710678  2.         -0.60302269 -0.1067999  -0.56212997]\n",
      " [-0.5        -0.70710678  2.         -0.60302269  0.48853738  0.19579808]]\n",
      "[[-1.75       -2.20710678 -1.75        3.14697731 -6.400848   -5.19371162]\n",
      " [ 4.5        -2.20710678 -1.75       -1.96665905 -6.73078682 -5.1939062 ]\n",
      " [-1.75       -2.20710678 -1.75        3.14697731 -6.80389826 -5.19398111]\n",
      " [-1.75        2.29289322 -1.75       -1.96665905 -6.76078126 -5.1939062 ]\n",
      " [-1.75       -2.20710678  4.5        -1.96665905 -7.06072564 -5.19396693]\n",
      " [ 4.5        -2.20710678 -1.75       -1.96665905 -6.91075345 -5.19393856]\n",
      " [-1.75        2.29289322 -1.75       -1.96665905 -6.80389826 -5.19406622]\n",
      " [-1.75       -2.20710678 -1.75        3.14697731 -6.85076457 -5.19387473]\n",
      " [-1.75        2.29289322 -1.75       -1.96665905 -6.52082575 -5.19378963]\n",
      " [-1.75        2.29289322 -1.75       -1.96665905 -7.09072008 -5.19400948]\n",
      " [-1.75       -2.20710678 -1.75        3.14697731 -6.88075901 -5.19392438]\n",
      " [ 4.5        -2.20710678 -1.75       -1.96665905 -6.82077013 -5.19391729]\n",
      " [-1.75        2.29289322 -1.75       -1.96665905 -6.6408035  -5.19383927]\n",
      " [-1.75       -2.20710678  4.5        -1.96665905 -6.80389826 -5.19395984]\n",
      " [-1.75       -2.20710678  4.5        -1.96665905 -6.70079238 -5.19389601]]\n"
     ]
    }
   ],
   "source": [
    "print(X_train)\n",
    "print(X_test)"
   ]
  }
 ],
 "metadata": {
  "colab": {
   "provenance": []
  },
  "kernelspec": {
   "display_name": "Python 3",
   "name": "python3"
  },
  "language_info": {
   "name": "python",
   "version": "3.12.2"
  }
 },
 "nbformat": 4,
 "nbformat_minor": 0
}
